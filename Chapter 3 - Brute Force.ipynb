{
 "cells": [
  {
   "cell_type": "code",
   "execution_count": 1,
   "metadata": {},
   "outputs": [],
   "source": [
    "import math"
   ]
  },
  {
   "cell_type": "markdown",
   "metadata": {},
   "source": [
    "# Selection Sort\n",
    "Scanning entire list to find its smllest element and exchange it with the first element"
   ]
  },
  {
   "cell_type": "code",
   "execution_count": 29,
   "metadata": {},
   "outputs": [
    {
     "name": "stdout",
     "output_type": "stream",
     "text": [
      "[17, 29, 34, 45, 68, 89, 90]\n"
     ]
    }
   ],
   "source": [
    "def selectionSort(A):\n",
    "    for i in range(0, len(A)):\n",
    "        min_val = i\n",
    "        for j in range(i+1, len(A)):\n",
    "            if A[j] < A[min_val]:\n",
    "                min_val = j\n",
    "        temp = A[i]\n",
    "        A[i] = A[min_val]\n",
    "        A[min_val] = temp\n",
    "            \n",
    "    return A\n",
    "A = [89, 45, 68, 90, 29, 34, 17]\n",
    "print(selectionSort(A))"
   ]
  },
  {
   "cell_type": "code",
   "execution_count": null,
   "metadata": {},
   "outputs": [],
   "source": []
  }
 ],
 "metadata": {
  "kernelspec": {
   "display_name": "Python 3",
   "language": "python",
   "name": "python3"
  },
  "language_info": {
   "codemirror_mode": {
    "name": "ipython",
    "version": 3
   },
   "file_extension": ".py",
   "mimetype": "text/x-python",
   "name": "python",
   "nbconvert_exporter": "python",
   "pygments_lexer": "ipython3",
   "version": "3.6.8"
  }
 },
 "nbformat": 4,
 "nbformat_minor": 2
}
